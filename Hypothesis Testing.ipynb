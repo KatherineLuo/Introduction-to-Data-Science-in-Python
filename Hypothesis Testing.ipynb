{
 "cells": [
  {
   "cell_type": "markdown",
   "metadata": {},
   "source": [
    "---\n",
    "\n",
    "_You are currently looking at **version 1.0** of this notebook. To download notebooks and datafiles, as well as get help on Jupyter notebooks in the Coursera platform, visit the [Jupyter Notebook FAQ](https://www.coursera.org/learn/python-data-analysis/resources/0dhYG) course resource._\n",
    "\n",
    "---"
   ]
  },
  {
   "cell_type": "code",
   "execution_count": 14,
   "metadata": {
    "collapsed": true
   },
   "outputs": [],
   "source": [
    "import pandas as pd\n",
    "import numpy as np\n",
    "from scipy.stats import ttest_ind"
   ]
  },
  {
   "cell_type": "markdown",
   "metadata": {},
   "source": [
    "# Assignment 4 - Hypothesis Testing\n",
    "This assignment requires more individual learning than previous assignments - you are encouraged to check out the [pandas documentation](http://pandas.pydata.org/pandas-docs/stable/) to find functions or methods you might not have used yet, or ask questions on [Stack Overflow](http://stackoverflow.com/) and tag them as pandas and python related. And of course, the discussion forums are open for interaction with your peers and the course staff.\n",
    "\n",
    "Definitions:\n",
    "* A _quarter_ is a specific three month period, Q1 is January through March, Q2 is April through June, Q3 is July through September, Q4 is October through December.\n",
    "* A _recession_ is defined as starting with two consecutive quarters of GDP decline, and ending with two consecutive quarters of GDP growth.\n",
    "* A _recession bottom_ is the quarter within a recession which had the lowest GDP.\n",
    "* A _university town_ is a city which has a high percentage of university students compared to the total population of the city.\n",
    "\n",
    "**Hypothesis**: University towns have their mean housing prices less effected by recessions. Run a t-test to compare the ratio of the mean price of houses in university towns the quarter before the recession starts compared to the recession bottom. (`price_ratio=quarter_before_recession/recession_bottom`)\n",
    "\n",
    "The following data files are available for this assignment:\n",
    "* From the [Zillow research data site](http://www.zillow.com/research/data/) there is housing data for the United States. In particular the datafile for [all homes at a city level](http://files.zillowstatic.com/research/public/City/City_Zhvi_AllHomes.csv), ```City_Zhvi_AllHomes.csv```, has median home sale prices at a fine grained level.\n",
    "* From the Wikipedia page on college towns is a list of [university towns in the United States](https://en.wikipedia.org/wiki/List_of_college_towns#College_towns_in_the_United_States) which has been copy and pasted into the file ```university_towns.txt```.\n",
    "* From Bureau of Economic Analysis, US Department of Commerce, the [GDP over time](http://www.bea.gov/national/index.htm#gdp) of the United States in current dollars (use the chained value in 2009 dollars), in quarterly intervals, in the file ```gdplev.xls```. For this assignment, only look at GDP data from the first quarter of 2000 onward.\n",
    "\n",
    "Each function in this assignment below is worth 10%, with the exception of ```run_ttest()```, which is worth 50%."
   ]
  },
  {
   "cell_type": "code",
   "execution_count": 15,
   "metadata": {
    "collapsed": false
   },
   "outputs": [],
   "source": [
    "# Use this dictionary to map state names to two letter acronyms\n",
    "states = {'OH': 'Ohio', 'KY': 'Kentucky', 'AS': 'American Samoa', 'NV': 'Nevada', 'WY': 'Wyoming', 'NA': 'National', 'AL': 'Alabama', 'MD': 'Maryland', 'AK': 'Alaska', 'UT': 'Utah', 'OR': 'Oregon', 'MT': 'Montana', 'IL': 'Illinois', 'TN': 'Tennessee', 'DC': 'District of Columbia', 'VT': 'Vermont', 'ID': 'Idaho', 'AR': 'Arkansas', 'ME': 'Maine', 'WA': 'Washington', 'HI': 'Hawaii', 'WI': 'Wisconsin', 'MI': 'Michigan', 'IN': 'Indiana', 'NJ': 'New Jersey', 'AZ': 'Arizona', 'GU': 'Guam', 'MS': 'Mississippi', 'PR': 'Puerto Rico', 'NC': 'North Carolina', 'TX': 'Texas', 'SD': 'South Dakota', 'MP': 'Northern Mariana Islands', 'IA': 'Iowa', 'MO': 'Missouri', 'CT': 'Connecticut', 'WV': 'West Virginia', 'SC': 'South Carolina', 'LA': 'Louisiana', 'KS': 'Kansas', 'NY': 'New York', 'NE': 'Nebraska', 'OK': 'Oklahoma', 'FL': 'Florida', 'CA': 'California', 'CO': 'Colorado', 'PA': 'Pennsylvania', 'DE': 'Delaware', 'NM': 'New Mexico', 'RI': 'Rhode Island', 'MN': 'Minnesota', 'VI': 'Virgin Islands', 'NH': 'New Hampshire', 'MA': 'Massachusetts', 'GA': 'Georgia', 'ND': 'North Dakota', 'VA': 'Virginia'}\n"
   ]
  },
  {
   "cell_type": "code",
   "execution_count": 27,
   "metadata": {
    "collapsed": false
   },
   "outputs": [
    {
     "data": {
      "text/html": [
       "<div>\n",
       "<table border=\"1\" class=\"dataframe\">\n",
       "  <thead>\n",
       "    <tr style=\"text-align: right;\">\n",
       "      <th></th>\n",
       "      <th>State</th>\n",
       "      <th>RegionName</th>\n",
       "    </tr>\n",
       "  </thead>\n",
       "  <tbody>\n",
       "    <tr>\n",
       "      <th>0</th>\n",
       "      <td>Alabama</td>\n",
       "      <td>Auburn</td>\n",
       "    </tr>\n",
       "    <tr>\n",
       "      <th>1</th>\n",
       "      <td>Alabama</td>\n",
       "      <td>Florence</td>\n",
       "    </tr>\n",
       "    <tr>\n",
       "      <th>2</th>\n",
       "      <td>Alabama</td>\n",
       "      <td>Jacksonville</td>\n",
       "    </tr>\n",
       "    <tr>\n",
       "      <th>3</th>\n",
       "      <td>Alabama</td>\n",
       "      <td>Livingston</td>\n",
       "    </tr>\n",
       "    <tr>\n",
       "      <th>4</th>\n",
       "      <td>Alabama</td>\n",
       "      <td>Montevallo</td>\n",
       "    </tr>\n",
       "  </tbody>\n",
       "</table>\n",
       "</div>"
      ],
      "text/plain": [
       "     State    RegionName\n",
       "0  Alabama        Auburn\n",
       "1  Alabama      Florence\n",
       "2  Alabama  Jacksonville\n",
       "3  Alabama    Livingston\n",
       "4  Alabama    Montevallo"
      ]
     },
     "execution_count": 27,
     "metadata": {},
     "output_type": "execute_result"
    }
   ],
   "source": [
    "def get_list_of_university_towns():\n",
    "    '''Returns a DataFrame of towns and the states they are in from the \n",
    "    university_towns.txt list. The format of the DataFrame should be:\n",
    "    DataFrame( [ [\"Michigan\", \"Ann Arbor\"], [\"Michigan\", \"Yipsilanti\"] ], \n",
    "    columns=[\"State\", \"RegionName\"]  )\n",
    "    \n",
    "    The following cleaning needs to be done:\n",
    "\n",
    "    1. For \"State\", removing characters from \"[\" to the end.\n",
    "    2. For \"RegionName\", when applicable, removing every character from \" (\" to the end.\n",
    "    3. Depending on how you read the data, you may need to remove newline character '\\n'. '''\n",
    "    fp = open('university_towns.txt', 'r')\n",
    "    lines = fp.readlines()\n",
    "    fp.close()\n",
    "    \n",
    "    state = ''\n",
    "    stateCity = []\n",
    "    for i in range(len(lines)):\n",
    "        if '[edit]' in lines[i]:\n",
    "            state = lines[i].split('[edit]')[0]\n",
    "            townCity = []\n",
    "            for j in range(i+1, len(lines)):\n",
    "                i += 1\n",
    "                if '[edit]' in lines[j]:\n",
    "                    break\n",
    "                townCity = [state, lines[j].split(' (')[0].strip()]\n",
    "                stateCity.append(townCity)\n",
    "    ut = pd.DataFrame(stateCity, columns=['State', 'RegionName'])            \n",
    "    return ut\n",
    "\n",
    "get_list_of_university_towns().head()"
   ]
  },
  {
   "cell_type": "code",
   "execution_count": 17,
   "metadata": {
    "collapsed": false
   },
   "outputs": [
    {
     "data": {
      "text/plain": [
       "'2008q3'"
      ]
     },
     "execution_count": 17,
     "metadata": {},
     "output_type": "execute_result"
    }
   ],
   "source": [
    "def get_recession_start():\n",
    "    '''Returns the year and quarter of the recession start time as a \n",
    "    string value in a format such as 2005q3'''\n",
    "    gdp = pd.read_excel('gdplev.xls', skiprows = 7)\n",
    "    gdp = pd.DataFrame(gdp)#, columns=['1', '2', '3', '4', 'time', 'gdpCurrent', 'gdpChained2009'])\n",
    "    gdp = gdp[gdp.columns[4:7]]\n",
    "    gdp = gdp.rename(columns = {'Unnamed: 4':'time', 'Unnamed: 5':'gdpCurrent', 'Unnamed: 6':'gdpChained2009'})\n",
    "    gdp['year'] = gdp['time'].apply(lambda x: x.split('q')[0])\n",
    "    gdp = gdp[gdp['year'].apply(lambda x: int(x) >= 2000)]\n",
    "    \n",
    "    index = gdp.index\n",
    "    Start = 0\n",
    "    for i in range(len(index)-2):\n",
    "        if (gdp.loc[index[i], 'gdpChained2009'] > gdp.loc[index[i+1], 'gdpChained2009']) & (gdp.loc[index[i+1], 'gdpChained2009'] > gdp.loc[index[i+2], 'gdpChained2009']):\n",
    "            #print (index[i], index[i+1], index[i+2], gdp.loc[index[i], 'gdpChained2009'])\n",
    "            Start = index[i+1]\n",
    "            break\n",
    "            \n",
    "    return gdp.loc[Start,'time'] \n",
    "\n",
    "get_recession_start()"
   ]
  },
  {
   "cell_type": "code",
   "execution_count": 18,
   "metadata": {
    "collapsed": false
   },
   "outputs": [
    {
     "data": {
      "text/plain": [
       "'2009q4'"
      ]
     },
     "execution_count": 18,
     "metadata": {},
     "output_type": "execute_result"
    }
   ],
   "source": [
    "def get_recession_end():\n",
    "    '''Returns the year and quarter of the recession end time as a \n",
    "    string value in a format such as 2005q3'''\n",
    "    gdp = pd.read_excel('gdplev.xls', skiprows = 7)\n",
    "    gdp = pd.DataFrame(gdp)#, columns=['1', '2', '3', '4', 'time', 'gdpCurrent', 'gdpChained2009'])\n",
    "    gdp = gdp[gdp.columns[4:7]]\n",
    "    gdp = gdp.rename(columns = {'Unnamed: 4':'time', 'Unnamed: 5':'gdpCurrent', 'Unnamed: 6':'gdpChained2009'})\n",
    "    gdp['year'] = gdp['time'].apply(lambda x: x.split('q')[0])\n",
    "    gdp = gdp[gdp['year'].apply(lambda x: int(x) >= 2000)]\n",
    "    \n",
    "    index = gdp.index\n",
    "    Start = 0\n",
    "    for i in range(len(index)-2):\n",
    "        if (gdp.loc[index[i], 'gdpChained2009'] > gdp.loc[index[i+1], 'gdpChained2009']) & (gdp.loc[index[i+1], 'gdpChained2009'] > gdp.loc[index[i+2], 'gdpChained2009']):\n",
    "            #print (index[i], index[i+1], index[i+2], gdp.loc[index[i], 'gdpChained2009'])\n",
    "            Start = i\n",
    "            break\n",
    "        \n",
    "    End = 0 \n",
    "    for i in range(Start, len(index)-2):\n",
    "        if (gdp.loc[index[i], 'gdpChained2009'] < gdp.loc[index[i+1], 'gdpChained2009']) & (gdp.loc[index[i+1], 'gdpChained2009'] < gdp.loc[index[i+2], 'gdpChained2009']):\n",
    "            #print (index[i], index[i+1], index[i+2], gdp.loc[index[i], 'gdpChained2009'])\n",
    "            End = index[i+2]\n",
    "            break\n",
    "           \n",
    "    return gdp.loc[End, 'time']\n",
    "get_recession_end()"
   ]
  },
  {
   "cell_type": "code",
   "execution_count": 19,
   "metadata": {
    "collapsed": false
   },
   "outputs": [
    {
     "data": {
      "text/plain": [
       "'2009q2'"
      ]
     },
     "execution_count": 19,
     "metadata": {},
     "output_type": "execute_result"
    }
   ],
   "source": [
    "def get_recession_bottom():\n",
    "    '''Returns the year and quarter of the recession bottom time as a \n",
    "    string value in a format such as 2005q3'''\n",
    "    gdp = pd.read_excel('gdplev.xls', skiprows = 7)\n",
    "    gdp = pd.DataFrame(gdp)#, columns=['1', '2', '3', '4', 'time', 'gdpCurrent', 'gdpChained2009'])\n",
    "    gdp = gdp[gdp.columns[4:7]]\n",
    "    gdp = gdp.rename(columns = {'Unnamed: 4':'time', 'Unnamed: 5':'gdpCurrent', 'Unnamed: 6':'gdpChained2009'})\n",
    "    gdp['year'] = gdp['time'].apply(lambda x: x.split('q')[0])\n",
    "    gdp = gdp[gdp['year'].apply(lambda x: int(x) >= 2000)]\n",
    "    \n",
    "    index = gdp.index\n",
    "    Start = 0\n",
    "    for i in range(len(index)-2):\n",
    "        if (gdp.loc[index[i], 'gdpChained2009'] > gdp.loc[index[i+1], 'gdpChained2009']) & (gdp.loc[index[i+1], 'gdpChained2009'] > gdp.loc[index[i+2], 'gdpChained2009']):\n",
    "            #print (index[i], index[i+1], index[i+2], gdp.loc[index[i], 'gdpChained2009'])\n",
    "            Start = i+1\n",
    "            break\n",
    "        \n",
    "    End = 0 \n",
    "    for i in range(Start, len(index)-2):\n",
    "        if (gdp.loc[index[i], 'gdpChained2009'] < gdp.loc[index[i+1], 'gdpChained2009']) & (gdp.loc[index[i+1], 'gdpChained2009'] < gdp.loc[index[i+2], 'gdpChained2009']):\n",
    "            #print (index[i], index[i+1], index[i+2], gdp.loc[index[i], 'gdpChained2009'])\n",
    "            End = index[i+2]\n",
    "            break\n",
    "            \n",
    "    Start = index[Start]\n",
    "    \n",
    "    return gdp.loc[gdp.loc[Start:End, 'gdpChained2009'].argmin(), 'time']\n",
    "\n",
    "get_recession_bottom()    "
   ]
  },
  {
   "cell_type": "code",
   "execution_count": 20,
   "metadata": {
    "collapsed": false
   },
   "outputs": [
    {
     "data": {
      "text/html": [
       "<div>\n",
       "<table border=\"1\" class=\"dataframe\">\n",
       "  <thead>\n",
       "    <tr style=\"text-align: right;\">\n",
       "      <th></th>\n",
       "      <th>yearQ</th>\n",
       "      <th>2008q3</th>\n",
       "      <th>2008q4</th>\n",
       "      <th>2009q1</th>\n",
       "      <th>2009q2</th>\n",
       "      <th>2009q3</th>\n",
       "      <th>2009q4</th>\n",
       "    </tr>\n",
       "    <tr>\n",
       "      <th>State</th>\n",
       "      <th>RegionName</th>\n",
       "      <th></th>\n",
       "      <th></th>\n",
       "      <th></th>\n",
       "      <th></th>\n",
       "      <th></th>\n",
       "      <th></th>\n",
       "    </tr>\n",
       "  </thead>\n",
       "  <tbody>\n",
       "    <tr>\n",
       "      <th>New York</th>\n",
       "      <th>New York</th>\n",
       "      <td>499766.666667</td>\n",
       "      <td>487933.333333</td>\n",
       "      <td>477733.333333</td>\n",
       "      <td>465833.333333</td>\n",
       "      <td>455933.333333</td>\n",
       "      <td>458366.666667</td>\n",
       "    </tr>\n",
       "    <tr>\n",
       "      <th>California</th>\n",
       "      <th>Los Angeles</th>\n",
       "      <td>469500.000000</td>\n",
       "      <td>443966.666667</td>\n",
       "      <td>426266.666667</td>\n",
       "      <td>413900.000000</td>\n",
       "      <td>406366.666667</td>\n",
       "      <td>404333.333333</td>\n",
       "    </tr>\n",
       "    <tr>\n",
       "      <th>Illinois</th>\n",
       "      <th>Chicago</th>\n",
       "      <td>232000.000000</td>\n",
       "      <td>227033.333333</td>\n",
       "      <td>223766.666667</td>\n",
       "      <td>219700.000000</td>\n",
       "      <td>214100.000000</td>\n",
       "      <td>211666.666667</td>\n",
       "    </tr>\n",
       "    <tr>\n",
       "      <th>Pennsylvania</th>\n",
       "      <th>Philadelphia</th>\n",
       "      <td>116933.333333</td>\n",
       "      <td>115866.666667</td>\n",
       "      <td>116200.000000</td>\n",
       "      <td>116166.666667</td>\n",
       "      <td>116733.333333</td>\n",
       "      <td>118566.666667</td>\n",
       "    </tr>\n",
       "    <tr>\n",
       "      <th>Arizona</th>\n",
       "      <th>Phoenix</th>\n",
       "      <td>193766.666667</td>\n",
       "      <td>183333.333333</td>\n",
       "      <td>177566.666667</td>\n",
       "      <td>168233.333333</td>\n",
       "      <td>155933.333333</td>\n",
       "      <td>143466.666667</td>\n",
       "    </tr>\n",
       "  </tbody>\n",
       "</table>\n",
       "</div>"
      ],
      "text/plain": [
       "yearQ                             2008q3         2008q4         2009q1  \\\n",
       "State        RegionName                                                  \n",
       "New York     New York      499766.666667  487933.333333  477733.333333   \n",
       "California   Los Angeles   469500.000000  443966.666667  426266.666667   \n",
       "Illinois     Chicago       232000.000000  227033.333333  223766.666667   \n",
       "Pennsylvania Philadelphia  116933.333333  115866.666667  116200.000000   \n",
       "Arizona      Phoenix       193766.666667  183333.333333  177566.666667   \n",
       "\n",
       "yearQ                             2009q2         2009q3         2009q4  \n",
       "State        RegionName                                                 \n",
       "New York     New York      465833.333333  455933.333333  458366.666667  \n",
       "California   Los Angeles   413900.000000  406366.666667  404333.333333  \n",
       "Illinois     Chicago       219700.000000  214100.000000  211666.666667  \n",
       "Pennsylvania Philadelphia  116166.666667  116733.333333  118566.666667  \n",
       "Arizona      Phoenix       168233.333333  155933.333333  143466.666667  "
      ]
     },
     "execution_count": 20,
     "metadata": {},
     "output_type": "execute_result"
    }
   ],
   "source": [
    "def convert_housing_data_to_quarters():\n",
    "    '''Converts the housing data to quarters and returns it as mean \n",
    "    values in a dataframe. This dataframe should be a dataframe with\n",
    "    columns for 2000q1 through 2016q3, and should have a multi-index\n",
    "    in the shape of [\"State\",\"RegionName\"].\n",
    "    \n",
    "    Note: Quarters are defined in the assignment description, they are\n",
    "    not arbitrary three month periods.\n",
    "    \n",
    "    The resulting dataframe should have 67 columns, and 10,730 rows.\n",
    "    '''\n",
    "    \n",
    "    house = pd.read_csv('City_Zhvi_AllHomes.csv')\n",
    "    house['State'] = house['State'].map(states)\n",
    "    houseT = house.T.reset_index(drop=False)\n",
    "\n",
    "    houseT['year'] = houseT['index'].apply(lambda x: x.split('-')[0] if '-' in x else 'NaN')\n",
    "    houseT['month'] = houseT['index'].apply(lambda x: x.split('-')[1] if '-' in x else 'NaN')\n",
    "\n",
    "    houseT = houseT[(houseT['year']>='2000') | (houseT['year'] == 'NaN')]\n",
    "    houseT = houseT.set_index('index')\n",
    "    houseT['quarter'] = houseT['month'].apply(lambda x: 'q1' if x in ['01', '02', '03'] else 'q2' if x in ['04', '05', '06']\n",
    "                                                  else 'q3' if x in ['07', '08', '09'] else 'q4' if x in ['10', '11', '12']\n",
    "                                                  else 'NaN')\n",
    "    houseT['yearQ'] = houseT['year']+houseT['quarter']\n",
    "    houseT.loc['RegionName', 'yearQ'] = 'YearQReg'\n",
    "    houseT.loc['State', 'yearQ'] = 'YearQSta'\n",
    "    houseT = houseT.drop(['year', 'month', 'quarter'], 1)\n",
    "    houseT = houseT.drop(['RegionID', 'Metro', 'CountyName', 'SizeRank'], 0)\n",
    "    houseT = houseT.reset_index()\n",
    "    houseT = houseT.set_index(['yearQ', 'index'], 1)\n",
    "    Qhouse = houseT.T\n",
    "    Qhouse = Qhouse.set_index([('YearQSta', 'State'), ('YearQReg', 'RegionName')])\n",
    "    Qhouse[:] = Qhouse[:].astype(float)\n",
    "    QhouseAvg = Qhouse.groupby(axis=1, level=0).mean()\n",
    "    QhouseAvg.index.names = ['State','RegionName']\n",
    "    \n",
    "    return QhouseAvg\n",
    "\n",
    "convert_housing_data_to_quarters().ix[:, '2008q3':'2009q4'].head()"
   ]
  },
  {
   "cell_type": "code",
   "execution_count": 30,
   "metadata": {
    "collapsed": false
   },
   "outputs": [
    {
     "data": {
      "text/plain": [
       "(True, 0.0027240637047614541, 'university town')"
      ]
     },
     "execution_count": 30,
     "metadata": {},
     "output_type": "execute_result"
    }
   ],
   "source": [
    "def run_ttest():\n",
    "    '''First creates new data showing the decline or growth of housing prices\n",
    "    between the recession start and the recession bottom. Then runs a ttest\n",
    "    comparing the university town values to the non-university towns values, \n",
    "    return whether the alternative hypothesis (that the two groups are the same)\n",
    "    is true or not as well as the p-value of the confidence. \n",
    "    \n",
    "    Return the tuple (different, p, better) where different=True if the t-test is\n",
    "    True at a p<0.01 (we reject the null hypothesis), or different=False if \n",
    "    otherwise (we cannot reject the null hypothesis). The variable p should\n",
    "    be equal to the exact p value returned from scipy.stats.ttest_ind(). The\n",
    "    value for better should be either \"university town\" or \"non-university town\"\n",
    "    depending on which has a lower mean price ratio (which is equivilent to a\n",
    "    reduced market loss).'''\n",
    "    \n",
    "    recStart = get_recession_start()\n",
    "    recBottom = get_recession_bottom()\n",
    "    houseData = convert_housing_data_to_quarters()\n",
    "    \n",
    "    houseData['quarter_before_recession'] = houseData.ix[:, houseData.columns.get_loc(recStart)-1]\n",
    "    \n",
    "    houseData['recession_bottom'] = houseData.ix[:, recBottom]\n",
    "    houseData['price_ratio'] = houseData['quarter_before_recession'].div(houseData['recession_bottom'])\n",
    "    \n",
    "    uniTowns = get_list_of_university_towns()\n",
    "    \n",
    "    \n",
    "    UniTownsHouse = pd.merge(houseData, uniTowns, left_index=True, right_index=False, right_on=['State', 'RegionName']).set_index(['State', 'RegionName']).ix[:, ['price_ratio']]   \n",
    "    houseData = houseData.reset_index()\n",
    "    \n",
    "    houseData['key'] = houseData['State'] + houseData['RegionName'].astype(str)\n",
    "    uniTowns['key'] = uniTowns['State'] + uniTowns['RegionName'].astype(str)\n",
    "    NonUniTownHouse = houseData[~houseData.key.isin(uniTowns.key)]\n",
    "    NonUniTownHouse = NonUniTownHouse.set_index(['State', 'RegionName']).ix[:, ['price_ratio']]\n",
    "    \n",
    "    #print (\"non university town shape:\", NonUniTownHouse.shape)\n",
    "    maskUT = UniTownsHouse['price_ratio'][np.isfinite(UniTownsHouse['price_ratio'])]\n",
    "    maskNUT = NonUniTownHouse['price_ratio'][np.isfinite(NonUniTownHouse['price_ratio'])]\n",
    "    t_result = ttest_ind(maskUT, maskNUT)\n",
    "    meanUT = maskUT.mean()\n",
    "    meanNUT = maskNUT.mean()\n",
    "    #print ('uni price:', UniTownsHouse['price_ratio'].mean(), 'NonUni price:', NonUniTownHouse['price_ratio'].mean()) \n",
    "    \n",
    "    return (True if t_result[1]<0.01 else False , t_result[1], 'university town' if meanUT < meanNUT else 'non-university town')\n",
    "    #return NonUniTownHouse\n",
    "\n",
    "run_ttest()"
   ]
  },
  {
   "cell_type": "code",
   "execution_count": null,
   "metadata": {
    "collapsed": false
   },
   "outputs": [],
   "source": []
  },
  {
   "cell_type": "code",
   "execution_count": null,
   "metadata": {
    "collapsed": false
   },
   "outputs": [],
   "source": []
  },
  {
   "cell_type": "code",
   "execution_count": null,
   "metadata": {
    "collapsed": true
   },
   "outputs": [],
   "source": []
  }
 ],
 "metadata": {
  "coursera": {
   "course_slug": "python-data-analysis",
   "graded_item_id": "Il9Fx",
   "launcher_item_id": "TeDW0",
   "part_id": "WGlun"
  },
  "kernelspec": {
   "display_name": "Python 3",
   "language": "python",
   "name": "python3"
  },
  "language_info": {
   "codemirror_mode": {
    "name": "ipython",
    "version": 3
   },
   "file_extension": ".py",
   "mimetype": "text/x-python",
   "name": "python",
   "nbconvert_exporter": "python",
   "pygments_lexer": "ipython3",
   "version": "3.5.2"
  }
 },
 "nbformat": 4,
 "nbformat_minor": 0
}
